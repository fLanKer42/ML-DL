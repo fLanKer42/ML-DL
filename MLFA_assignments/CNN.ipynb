{
 "cells": [
  {
   "cell_type": "code",
   "execution_count": 9,
   "metadata": {},
   "outputs": [],
   "source": [
    "import numpy as np\n",
    "import pandas as pd"
   ]
  },
  {
   "cell_type": "code",
   "execution_count": 10,
   "metadata": {},
   "outputs": [
    {
     "data": {
      "text/html": [
       "<div>\n",
       "<style scoped>\n",
       "    .dataframe tbody tr th:only-of-type {\n",
       "        vertical-align: middle;\n",
       "    }\n",
       "\n",
       "    .dataframe tbody tr th {\n",
       "        vertical-align: top;\n",
       "    }\n",
       "\n",
       "    .dataframe thead th {\n",
       "        text-align: right;\n",
       "    }\n",
       "</style>\n",
       "<table border=\"1\" class=\"dataframe\">\n",
       "  <thead>\n",
       "    <tr style=\"text-align: right;\">\n",
       "      <th></th>\n",
       "      <th>behavior_sexualRisk</th>\n",
       "      <th>behavior_eating</th>\n",
       "      <th>behavior_personalHygine</th>\n",
       "      <th>intention_aggregation</th>\n",
       "      <th>intention_commitment</th>\n",
       "      <th>attitude_consistency</th>\n",
       "      <th>attitude_spontaneity</th>\n",
       "      <th>norm_significantPerson</th>\n",
       "      <th>norm_fulfillment</th>\n",
       "      <th>perception_vulnerability</th>\n",
       "      <th>perception_severity</th>\n",
       "      <th>motivation_strength</th>\n",
       "      <th>motivation_willingness</th>\n",
       "      <th>socialSupport_emotionality</th>\n",
       "      <th>socialSupport_appreciation</th>\n",
       "      <th>socialSupport_instrumental</th>\n",
       "      <th>empowerment_knowledge</th>\n",
       "      <th>empowerment_abilities</th>\n",
       "      <th>empowerment_desires</th>\n",
       "      <th>ca_cervix</th>\n",
       "    </tr>\n",
       "  </thead>\n",
       "  <tbody>\n",
       "    <tr>\n",
       "      <th>0</th>\n",
       "      <td>10</td>\n",
       "      <td>13</td>\n",
       "      <td>12</td>\n",
       "      <td>4</td>\n",
       "      <td>7</td>\n",
       "      <td>9</td>\n",
       "      <td>10</td>\n",
       "      <td>1</td>\n",
       "      <td>8</td>\n",
       "      <td>7</td>\n",
       "      <td>3</td>\n",
       "      <td>14</td>\n",
       "      <td>8</td>\n",
       "      <td>5</td>\n",
       "      <td>7</td>\n",
       "      <td>12</td>\n",
       "      <td>12</td>\n",
       "      <td>11</td>\n",
       "      <td>8</td>\n",
       "      <td>1</td>\n",
       "    </tr>\n",
       "    <tr>\n",
       "      <th>1</th>\n",
       "      <td>10</td>\n",
       "      <td>11</td>\n",
       "      <td>11</td>\n",
       "      <td>10</td>\n",
       "      <td>14</td>\n",
       "      <td>7</td>\n",
       "      <td>7</td>\n",
       "      <td>5</td>\n",
       "      <td>5</td>\n",
       "      <td>4</td>\n",
       "      <td>2</td>\n",
       "      <td>15</td>\n",
       "      <td>13</td>\n",
       "      <td>7</td>\n",
       "      <td>6</td>\n",
       "      <td>5</td>\n",
       "      <td>5</td>\n",
       "      <td>4</td>\n",
       "      <td>4</td>\n",
       "      <td>1</td>\n",
       "    </tr>\n",
       "    <tr>\n",
       "      <th>2</th>\n",
       "      <td>10</td>\n",
       "      <td>15</td>\n",
       "      <td>3</td>\n",
       "      <td>2</td>\n",
       "      <td>14</td>\n",
       "      <td>8</td>\n",
       "      <td>10</td>\n",
       "      <td>1</td>\n",
       "      <td>4</td>\n",
       "      <td>7</td>\n",
       "      <td>2</td>\n",
       "      <td>7</td>\n",
       "      <td>3</td>\n",
       "      <td>3</td>\n",
       "      <td>6</td>\n",
       "      <td>11</td>\n",
       "      <td>3</td>\n",
       "      <td>3</td>\n",
       "      <td>15</td>\n",
       "      <td>1</td>\n",
       "    </tr>\n",
       "    <tr>\n",
       "      <th>3</th>\n",
       "      <td>10</td>\n",
       "      <td>11</td>\n",
       "      <td>10</td>\n",
       "      <td>10</td>\n",
       "      <td>15</td>\n",
       "      <td>7</td>\n",
       "      <td>7</td>\n",
       "      <td>1</td>\n",
       "      <td>5</td>\n",
       "      <td>4</td>\n",
       "      <td>2</td>\n",
       "      <td>15</td>\n",
       "      <td>13</td>\n",
       "      <td>7</td>\n",
       "      <td>4</td>\n",
       "      <td>4</td>\n",
       "      <td>4</td>\n",
       "      <td>4</td>\n",
       "      <td>4</td>\n",
       "      <td>1</td>\n",
       "    </tr>\n",
       "    <tr>\n",
       "      <th>4</th>\n",
       "      <td>8</td>\n",
       "      <td>11</td>\n",
       "      <td>7</td>\n",
       "      <td>8</td>\n",
       "      <td>10</td>\n",
       "      <td>7</td>\n",
       "      <td>8</td>\n",
       "      <td>1</td>\n",
       "      <td>5</td>\n",
       "      <td>3</td>\n",
       "      <td>2</td>\n",
       "      <td>15</td>\n",
       "      <td>5</td>\n",
       "      <td>3</td>\n",
       "      <td>6</td>\n",
       "      <td>12</td>\n",
       "      <td>5</td>\n",
       "      <td>4</td>\n",
       "      <td>7</td>\n",
       "      <td>1</td>\n",
       "    </tr>\n",
       "    <tr>\n",
       "      <th>...</th>\n",
       "      <td>...</td>\n",
       "      <td>...</td>\n",
       "      <td>...</td>\n",
       "      <td>...</td>\n",
       "      <td>...</td>\n",
       "      <td>...</td>\n",
       "      <td>...</td>\n",
       "      <td>...</td>\n",
       "      <td>...</td>\n",
       "      <td>...</td>\n",
       "      <td>...</td>\n",
       "      <td>...</td>\n",
       "      <td>...</td>\n",
       "      <td>...</td>\n",
       "      <td>...</td>\n",
       "      <td>...</td>\n",
       "      <td>...</td>\n",
       "      <td>...</td>\n",
       "      <td>...</td>\n",
       "      <td>...</td>\n",
       "    </tr>\n",
       "    <tr>\n",
       "      <th>67</th>\n",
       "      <td>10</td>\n",
       "      <td>14</td>\n",
       "      <td>14</td>\n",
       "      <td>10</td>\n",
       "      <td>15</td>\n",
       "      <td>6</td>\n",
       "      <td>7</td>\n",
       "      <td>5</td>\n",
       "      <td>15</td>\n",
       "      <td>14</td>\n",
       "      <td>10</td>\n",
       "      <td>15</td>\n",
       "      <td>13</td>\n",
       "      <td>9</td>\n",
       "      <td>8</td>\n",
       "      <td>12</td>\n",
       "      <td>12</td>\n",
       "      <td>11</td>\n",
       "      <td>9</td>\n",
       "      <td>0</td>\n",
       "    </tr>\n",
       "    <tr>\n",
       "      <th>68</th>\n",
       "      <td>10</td>\n",
       "      <td>12</td>\n",
       "      <td>15</td>\n",
       "      <td>10</td>\n",
       "      <td>15</td>\n",
       "      <td>8</td>\n",
       "      <td>8</td>\n",
       "      <td>5</td>\n",
       "      <td>15</td>\n",
       "      <td>14</td>\n",
       "      <td>8</td>\n",
       "      <td>12</td>\n",
       "      <td>14</td>\n",
       "      <td>11</td>\n",
       "      <td>7</td>\n",
       "      <td>13</td>\n",
       "      <td>15</td>\n",
       "      <td>11</td>\n",
       "      <td>14</td>\n",
       "      <td>0</td>\n",
       "    </tr>\n",
       "    <tr>\n",
       "      <th>69</th>\n",
       "      <td>10</td>\n",
       "      <td>8</td>\n",
       "      <td>11</td>\n",
       "      <td>6</td>\n",
       "      <td>10</td>\n",
       "      <td>6</td>\n",
       "      <td>4</td>\n",
       "      <td>3</td>\n",
       "      <td>13</td>\n",
       "      <td>9</td>\n",
       "      <td>8</td>\n",
       "      <td>14</td>\n",
       "      <td>12</td>\n",
       "      <td>9</td>\n",
       "      <td>7</td>\n",
       "      <td>11</td>\n",
       "      <td>12</td>\n",
       "      <td>10</td>\n",
       "      <td>10</td>\n",
       "      <td>0</td>\n",
       "    </tr>\n",
       "    <tr>\n",
       "      <th>70</th>\n",
       "      <td>9</td>\n",
       "      <td>12</td>\n",
       "      <td>13</td>\n",
       "      <td>10</td>\n",
       "      <td>13</td>\n",
       "      <td>6</td>\n",
       "      <td>6</td>\n",
       "      <td>5</td>\n",
       "      <td>14</td>\n",
       "      <td>13</td>\n",
       "      <td>10</td>\n",
       "      <td>13</td>\n",
       "      <td>12</td>\n",
       "      <td>11</td>\n",
       "      <td>8</td>\n",
       "      <td>12</td>\n",
       "      <td>11</td>\n",
       "      <td>13</td>\n",
       "      <td>15</td>\n",
       "      <td>0</td>\n",
       "    </tr>\n",
       "    <tr>\n",
       "      <th>71</th>\n",
       "      <td>10</td>\n",
       "      <td>14</td>\n",
       "      <td>14</td>\n",
       "      <td>6</td>\n",
       "      <td>12</td>\n",
       "      <td>7</td>\n",
       "      <td>8</td>\n",
       "      <td>5</td>\n",
       "      <td>15</td>\n",
       "      <td>12</td>\n",
       "      <td>10</td>\n",
       "      <td>10</td>\n",
       "      <td>13</td>\n",
       "      <td>11</td>\n",
       "      <td>9</td>\n",
       "      <td>14</td>\n",
       "      <td>13</td>\n",
       "      <td>15</td>\n",
       "      <td>15</td>\n",
       "      <td>0</td>\n",
       "    </tr>\n",
       "  </tbody>\n",
       "</table>\n",
       "<p>72 rows × 20 columns</p>\n",
       "</div>"
      ],
      "text/plain": [
       "    behavior_sexualRisk  behavior_eating  behavior_personalHygine  \\\n",
       "0                    10               13                       12   \n",
       "1                    10               11                       11   \n",
       "2                    10               15                        3   \n",
       "3                    10               11                       10   \n",
       "4                     8               11                        7   \n",
       "..                  ...              ...                      ...   \n",
       "67                   10               14                       14   \n",
       "68                   10               12                       15   \n",
       "69                   10                8                       11   \n",
       "70                    9               12                       13   \n",
       "71                   10               14                       14   \n",
       "\n",
       "    intention_aggregation  intention_commitment  attitude_consistency  \\\n",
       "0                       4                     7                     9   \n",
       "1                      10                    14                     7   \n",
       "2                       2                    14                     8   \n",
       "3                      10                    15                     7   \n",
       "4                       8                    10                     7   \n",
       "..                    ...                   ...                   ...   \n",
       "67                     10                    15                     6   \n",
       "68                     10                    15                     8   \n",
       "69                      6                    10                     6   \n",
       "70                     10                    13                     6   \n",
       "71                      6                    12                     7   \n",
       "\n",
       "    attitude_spontaneity  norm_significantPerson  norm_fulfillment  \\\n",
       "0                     10                       1                 8   \n",
       "1                      7                       5                 5   \n",
       "2                     10                       1                 4   \n",
       "3                      7                       1                 5   \n",
       "4                      8                       1                 5   \n",
       "..                   ...                     ...               ...   \n",
       "67                     7                       5                15   \n",
       "68                     8                       5                15   \n",
       "69                     4                       3                13   \n",
       "70                     6                       5                14   \n",
       "71                     8                       5                15   \n",
       "\n",
       "    perception_vulnerability  perception_severity  motivation_strength  \\\n",
       "0                          7                    3                   14   \n",
       "1                          4                    2                   15   \n",
       "2                          7                    2                    7   \n",
       "3                          4                    2                   15   \n",
       "4                          3                    2                   15   \n",
       "..                       ...                  ...                  ...   \n",
       "67                        14                   10                   15   \n",
       "68                        14                    8                   12   \n",
       "69                         9                    8                   14   \n",
       "70                        13                   10                   13   \n",
       "71                        12                   10                   10   \n",
       "\n",
       "    motivation_willingness  socialSupport_emotionality  \\\n",
       "0                        8                           5   \n",
       "1                       13                           7   \n",
       "2                        3                           3   \n",
       "3                       13                           7   \n",
       "4                        5                           3   \n",
       "..                     ...                         ...   \n",
       "67                      13                           9   \n",
       "68                      14                          11   \n",
       "69                      12                           9   \n",
       "70                      12                          11   \n",
       "71                      13                          11   \n",
       "\n",
       "    socialSupport_appreciation  socialSupport_instrumental  \\\n",
       "0                            7                          12   \n",
       "1                            6                           5   \n",
       "2                            6                          11   \n",
       "3                            4                           4   \n",
       "4                            6                          12   \n",
       "..                         ...                         ...   \n",
       "67                           8                          12   \n",
       "68                           7                          13   \n",
       "69                           7                          11   \n",
       "70                           8                          12   \n",
       "71                           9                          14   \n",
       "\n",
       "    empowerment_knowledge  empowerment_abilities  empowerment_desires  \\\n",
       "0                      12                     11                    8   \n",
       "1                       5                      4                    4   \n",
       "2                       3                      3                   15   \n",
       "3                       4                      4                    4   \n",
       "4                       5                      4                    7   \n",
       "..                    ...                    ...                  ...   \n",
       "67                     12                     11                    9   \n",
       "68                     15                     11                   14   \n",
       "69                     12                     10                   10   \n",
       "70                     11                     13                   15   \n",
       "71                     13                     15                   15   \n",
       "\n",
       "    ca_cervix  \n",
       "0           1  \n",
       "1           1  \n",
       "2           1  \n",
       "3           1  \n",
       "4           1  \n",
       "..        ...  \n",
       "67          0  \n",
       "68          0  \n",
       "69          0  \n",
       "70          0  \n",
       "71          0  \n",
       "\n",
       "[72 rows x 20 columns]"
      ]
     },
     "execution_count": 10,
     "metadata": {},
     "output_type": "execute_result"
    }
   ],
   "source": [
    "df = pd.read_csv(\"sobar-72.csv\")\n",
    "df"
   ]
  },
  {
   "cell_type": "code",
   "execution_count": 11,
   "metadata": {},
   "outputs": [],
   "source": [
    "X= df.iloc[:,0:19].values\n",
    "Y= df.iloc[:,19].values"
   ]
  },
  {
   "cell_type": "code",
   "execution_count": 12,
   "metadata": {},
   "outputs": [],
   "source": [
    "from sklearn.model_selection import train_test_split\n",
    "X_train, X_test, y_train, y_test = train_test_split(X, Y, test_size = 15/72, random_state = 20)"
   ]
  },
  {
   "cell_type": "markdown",
   "metadata": {},
   "source": [
    "Classic KNN "
   ]
  },
  {
   "cell_type": "code",
   "execution_count": 13,
   "metadata": {},
   "outputs": [],
   "source": [
    "def eucledian(p1,p2):\n",
    "    dist = np.sqrt(np.sum((p1-p2)**2))\n",
    "    return dist"
   ]
  },
  {
   "cell_type": "code",
   "execution_count": 14,
   "metadata": {},
   "outputs": [],
   "source": [
    "from scipy.stats import mode"
   ]
  },
  {
   "cell_type": "code",
   "execution_count": 15,
   "metadata": {},
   "outputs": [],
   "source": [
    "def predict(x_train, y , x_test, k):\n",
    "    output_labels = []\n",
    "    \n",
    "    for item in x_test: \n",
    "        \n",
    "        \n",
    "        point_dist = []\n",
    "        \n",
    "        \n",
    "        for j in range(len(x_train)): \n",
    "            distances = eucledian(np.array(x_train[j,:]) , item) \n",
    "            point_dist.append(distances) \n",
    "        point_dist = np.array(point_dist) \n",
    "        \n",
    "        \n",
    "        dist = np.argsort(point_dist)[:k] \n",
    "        \n",
    "        \n",
    "        labels = y[dist]\n",
    "        \n",
    "        \n",
    "        lab = mode(labels) \n",
    "        lab = lab.mode[0]\n",
    "        output_labels.append(lab)\n",
    "\n",
    "    return output_labels"
   ]
  },
  {
   "cell_type": "code",
   "execution_count": 16,
   "metadata": {},
   "outputs": [],
   "source": [
    "from sklearn.metrics import accuracy_score"
   ]
  },
  {
   "cell_type": "code",
   "execution_count": 28,
   "metadata": {},
   "outputs": [
    {
     "data": {
      "text/plain": [
       "[0, 0, 0, 0, 0, 0, 0, 0, 1, 0, 0, 1, 1, 0, 0]"
      ]
     },
     "execution_count": 28,
     "metadata": {},
     "output_type": "execute_result"
    }
   ],
   "source": [
    "y_pred = predict(X_train,y_train,X_test , 5)\n",
    "y_test\n",
    "y_pred"
   ]
  },
  {
   "cell_type": "code",
   "execution_count": 18,
   "metadata": {},
   "outputs": [
    {
     "data": {
      "text/plain": [
       "0.7333333333333333"
      ]
     },
     "execution_count": 18,
     "metadata": {},
     "output_type": "execute_result"
    }
   ],
   "source": [
    "accuracy_score(y_test, y_pred)"
   ]
  },
  {
   "cell_type": "markdown",
   "metadata": {},
   "source": [
    "CNN"
   ]
  },
  {
   "cell_type": "code",
   "execution_count": 30,
   "metadata": {},
   "outputs": [],
   "source": [
    "X_condensed = []\n",
    "y_condensed = []\n"
   ]
  },
  {
   "cell_type": "code",
   "execution_count": 31,
   "metadata": {},
   "outputs": [],
   "source": [
    "import random"
   ]
  },
  {
   "cell_type": "code",
   "execution_count": 32,
   "metadata": {},
   "outputs": [],
   "source": [
    "random_num = random.randint(0,56)\n",
    "X_condensed.append(X_train[random_num])\n",
    "y_condensed.append(y_train[random_num])\n"
   ]
  },
  {
   "cell_type": "code",
   "execution_count": 33,
   "metadata": {},
   "outputs": [],
   "source": [
    "def predict_cnn(x_train, y , x_test, k):\n",
    "    output_labels = []\n",
    "    x_train = np.array(x_train)\n",
    "    y = np.array(y)\n",
    "    \n",
    "    for item in x_test: \n",
    "        \n",
    "        \n",
    "        point_dist = []\n",
    "        \n",
    "        \n",
    "        for j in range(0,len(x_train)): \n",
    "            \n",
    "            distances = eucledian(np.array(x_train[j,:]) , item) \n",
    "            #print(distances)\n",
    "            point_dist.append(distances) \n",
    "        point_dist = np.array(point_dist) \n",
    "        \n",
    "       \n",
    "        dist = np.argsort(point_dist)[:k] \n",
    "        \n",
    "        \n",
    "        \n",
    "        labels = y[dist]\n",
    "        #print(labels)\n",
    "        \n",
    "        \n",
    "        lab = mode(labels) \n",
    "        \n",
    "        lab = lab.mode[0]\n",
    "    \n",
    "        output_labels.append(lab)\n",
    "        \n",
    "\n",
    "    return output_labels"
   ]
  },
  {
   "cell_type": "code",
   "execution_count": 34,
   "metadata": {},
   "outputs": [],
   "source": [
    "y_pred = predict_cnn(X_condensed,y_condensed,X_train , 1)"
   ]
  },
  {
   "cell_type": "code",
   "execution_count": 35,
   "metadata": {},
   "outputs": [],
   "source": [
    "indices = []\n",
    "for i in range (0,len(y_train)):\n",
    "    if y_train[i] != y_pred[i]:\n",
    "        indices.append(i)"
   ]
  },
  {
   "cell_type": "code",
   "execution_count": 36,
   "metadata": {},
   "outputs": [],
   "source": [
    "while indices:\n",
    "    random_num = random.choice(indices)\n",
    "    X_condensed.append(X_train[random_num])\n",
    "    y_condensed.append(y_train[random_num])\n",
    "    y_pred = predict_cnn(X_condensed,y_condensed,X_train , 1)\n",
    "    indices = []\n",
    "    for i in range (0,len(y_train)):\n",
    "        if y_train[i] != y_pred[i]:\n",
    "            indices.append(i)\n",
    "\n",
    "  "
   ]
  },
  {
   "cell_type": "code",
   "execution_count": 37,
   "metadata": {},
   "outputs": [],
   "source": [
    "X_condensed = np.array(X_condensed)\n",
    "y_condensed = np.array(y_condensed)"
   ]
  },
  {
   "cell_type": "code",
   "execution_count": 39,
   "metadata": {},
   "outputs": [
    {
     "data": {
      "text/plain": [
       "[0, 0, 0, 0, 1, 0, 0, 0, 1, 0, 0, 1, 1, 0, 0]"
      ]
     },
     "execution_count": 39,
     "metadata": {},
     "output_type": "execute_result"
    }
   ],
   "source": [
    "y_pred = predict(X_condensed,y_condensed,X_test , 5)\n",
    "y_pred"
   ]
  },
  {
   "cell_type": "code",
   "execution_count": 238,
   "metadata": {},
   "outputs": [
    {
     "data": {
      "text/plain": [
       "0.8666666666666667"
      ]
     },
     "execution_count": 238,
     "metadata": {},
     "output_type": "execute_result"
    }
   ],
   "source": [
    "accuracy_score(y_test, y_pred)"
   ]
  },
  {
   "cell_type": "markdown",
   "metadata": {},
   "source": [
    "Using standard library on Entire Dataset"
   ]
  },
  {
   "cell_type": "code",
   "execution_count": 231,
   "metadata": {},
   "outputs": [],
   "source": [
    "from sklearn.neighbors import KNeighborsClassifier"
   ]
  },
  {
   "cell_type": "code",
   "execution_count": 232,
   "metadata": {},
   "outputs": [
    {
     "data": {
      "text/plain": [
       "KNeighborsClassifier()"
      ]
     },
     "execution_count": 232,
     "metadata": {},
     "output_type": "execute_result"
    }
   ],
   "source": [
    "knn = KNeighborsClassifier(n_neighbors=5)\n",
    "knn.fit(X_train, y_train)"
   ]
  },
  {
   "cell_type": "code",
   "execution_count": 233,
   "metadata": {},
   "outputs": [
    {
     "name": "stdout",
     "output_type": "stream",
     "text": [
      "0.7333333333333333\n"
     ]
    }
   ],
   "source": [
    "print(knn.score(X_test, y_test))"
   ]
  },
  {
   "cell_type": "markdown",
   "metadata": {},
   "source": [
    "Using standard library on Condensed Dataset"
   ]
  },
  {
   "cell_type": "code",
   "execution_count": 234,
   "metadata": {},
   "outputs": [
    {
     "data": {
      "text/plain": [
       "KNeighborsClassifier()"
      ]
     },
     "execution_count": 234,
     "metadata": {},
     "output_type": "execute_result"
    }
   ],
   "source": [
    "knn = KNeighborsClassifier(n_neighbors=5)\n",
    "knn.fit(X_condensed, y_condensed)"
   ]
  },
  {
   "cell_type": "code",
   "execution_count": 235,
   "metadata": {},
   "outputs": [
    {
     "name": "stdout",
     "output_type": "stream",
     "text": [
      "0.8666666666666667\n"
     ]
    }
   ],
   "source": [
    "print(knn.score(X_test, y_test))"
   ]
  },
  {
   "cell_type": "code",
   "execution_count": null,
   "metadata": {},
   "outputs": [],
   "source": []
  },
  {
   "cell_type": "code",
   "execution_count": null,
   "metadata": {},
   "outputs": [],
   "source": []
  }
 ],
 "metadata": {
  "interpreter": {
   "hash": "ef7f9a8012d9131766e31894c279374cc63c73121ed4db3b9e67a294a4bf0e74"
  },
  "kernelspec": {
   "display_name": "Python 3 (ipykernel)",
   "language": "python",
   "name": "python3"
  },
  "language_info": {
   "codemirror_mode": {
    "name": "ipython",
    "version": 3
   },
   "file_extension": ".py",
   "mimetype": "text/x-python",
   "name": "python",
   "nbconvert_exporter": "python",
   "pygments_lexer": "ipython3",
   "version": "3.9.7"
  }
 },
 "nbformat": 4,
 "nbformat_minor": 2
}
