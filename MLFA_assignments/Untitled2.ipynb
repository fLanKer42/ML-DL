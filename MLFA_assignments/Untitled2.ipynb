{
  "nbformat": 4,
  "nbformat_minor": 0,
  "metadata": {
    "colab": {
      "name": "Untitled2.ipynb",
      "provenance": []
    },
    "kernelspec": {
      "name": "python3",
      "display_name": "Python 3"
    },
    "language_info": {
      "name": "python"
    }
  },
  "cells": [
    {
      "cell_type": "code",
      "source": [
        "import numpy as np\n",
        "import pandas as pd       \n",
        "import tensorflow as tf\n",
        "import matplotlib.pyplot as plt\n",
        "from sklearn.preprocessing import LabelBinarizer"
      ],
      "metadata": {
        "id": "zDNjw1cubkiv"
      },
      "execution_count": 1,
      "outputs": []
    },
    {
      "cell_type": "code",
      "source": [
        "from tensorflow.keras.models import Sequential\n",
        "from tensorflow.keras.layers import Flatten\n",
        "from tensorflow.keras.layers import Dense\n",
        "from tensorflow.keras.optimizers import Adam\n",
        "from tensorflow.keras.datasets import mnist"
      ],
      "metadata": {
        "id": "hsEGx4elbnbh"
      },
      "execution_count": 19,
      "outputs": []
    },
    {
      "cell_type": "code",
      "source": [
        "from keras.layers import Dropout\n"
      ],
      "metadata": {
        "id": "62hwnQ81hKDr"
      },
      "execution_count": 9,
      "outputs": []
    },
    {
      "cell_type": "code",
      "source": [
        "((trainX, trainY), (testX, testY)) = mnist.load_data()\n",
        "print('Shape of training data',trainX.shape)\n",
        "print('Shape of test data',testX.shape)"
      ],
      "metadata": {
        "colab": {
          "base_uri": "https://localhost:8080/"
        },
        "id": "X_OQ79Ipbtru",
        "outputId": "befc81c8-e65e-4213-f270-271e8bd63908"
      },
      "execution_count": 3,
      "outputs": [
        {
          "output_type": "stream",
          "name": "stdout",
          "text": [
            "Downloading data from https://storage.googleapis.com/tensorflow/tf-keras-datasets/mnist.npz\n",
            "11493376/11490434 [==============================] - 0s 0us/step\n",
            "11501568/11490434 [==============================] - 0s 0us/step\n",
            "Shape of training data (60000, 28, 28)\n",
            "Shape of test data (10000, 28, 28)\n"
          ]
        }
      ]
    },
    {
      "cell_type": "code",
      "source": [
        "trainX = trainX.astype(\"float32\") / 255.0\n",
        "testX = testX.astype(\"float32\") / 255.0\n",
        "# Normalizing the data generally speeds up learning and leads to faster convergence. \n",
        "plt.figure()\n",
        "plt.imshow(trainX[0])\n",
        "plt.colorbar()\n",
        "plt.show()\n",
        "print(trainY[0])"
      ],
      "metadata": {
        "colab": {
          "base_uri": "https://localhost:8080/",
          "height": 286
        },
        "id": "fD8ORwHMbyBc",
        "outputId": "f59d4fe8-64da-4397-90e6-f1133d2d406a"
      },
      "execution_count": 4,
      "outputs": [
        {
          "output_type": "display_data",
          "data": {
            "image/png": "[encoded data removed]",
            "text/plain": [
              "<Figure size 432x288 with 2 Axes>"
            ]
          },
          "metadata": {
            "needs_background": "light"
          }
        },
        {
          "output_type": "stream",
          "name": "stdout",
          "text": [
            "5\n"
          ]
        }
      ]
    },
    {
      "cell_type": "code",
      "source": [
        "lb = LabelBinarizer()\n",
        "trainY = lb.fit_transform(trainY)\n",
        "testY = lb.transform(testY)"
      ],
      "metadata": {
        "id": "yQJc1QPecjy-"
      },
      "execution_count": 5,
      "outputs": []
    },
    {
      "cell_type": "code",
      "source": [
        "model = Sequential()\n",
        "model.add(Flatten(input_shape=(28,28)))\n",
        "model.add(Dropout(0.3, input_shape=(28, 28)))\n",
        "model.add(Dense(10, activation='relu', kernel_initializer='glorot_uniform'))\n",
        "model.add(Dense(50, activation='relu', kernel_initializer='glorot_uniform'))\n",
        "model.add(Dense(50, activation='relu', kernel_initializer='glorot_uniform'))\n",
        "model.add(Dense(50, activation='relu', kernel_initializer='glorot_uniform'))\n",
        "model.add(Dense(50, activation='relu', kernel_initializer='glorot_uniform'))\n",
        "model.add(Dense(50, activation='relu', kernel_initializer='glorot_uniform'))\n",
        "model.add(Dense(50, activation='relu', kernel_initializer='glorot_uniform'))\n",
        "model.add(Dense(50, activation='relu', kernel_initializer='glorot_uniform'))\n",
        "model.add(Dense(50, activation='relu', kernel_initializer='glorot_uniform'))\n",
        "model.add(Dense(50, activation='relu', kernel_initializer='glorot_uniform'))\n",
        "model.add(Dense(10, activation=\"softmax\"))"
      ],
      "metadata": {
        "id": "kPsLqv9jcoj6"
      },
      "execution_count": 17,
      "outputs": []
    },
    {
      "cell_type": "code",
      "source": [
        "optim = Adam(learning_rate = 0.0001)\n",
        "model.compile(loss=\"categorical_crossentropy\", optimizer=optim, metrics=[\"accuracy\"])\n",
        "H = model.fit(trainX, trainY, validation_data=(testX, testY), epochs=10)"
      ],
      "metadata": {
        "colab": {
          "base_uri": "https://localhost:8080/"
        },
        "id": "TIXPn1lfeFrV",
        "outputId": "f954815a-5746-4692-d248-c4094bcc0362"
      },
      "execution_count": 18,
      "outputs": [
        {
          "output_type": "stream",
          "name": "stdout",
          "text": [
            "Epoch 1/10\n",
            "1875/1875 [==============================] - 8s 4ms/step - loss: 1.3059 - accuracy: 0.5099 - val_loss: 0.7464 - val_accuracy: 0.7416\n",
            "Epoch 2/10\n",
            "1875/1875 [==============================] - 7s 4ms/step - loss: 0.6973 - accuracy: 0.7726 - val_loss: 0.4863 - val_accuracy: 0.8557\n",
            "Epoch 3/10\n",
            "1875/1875 [==============================] - 7s 4ms/step - loss: 0.5449 - accuracy: 0.8307 - val_loss: 0.3876 - val_accuracy: 0.8869\n",
            "Epoch 4/10\n",
            "1875/1875 [==============================] - 7s 4ms/step - loss: 0.4669 - accuracy: 0.8572 - val_loss: 0.3442 - val_accuracy: 0.9003\n",
            "Epoch 5/10\n",
            "1875/1875 [==============================] - 7s 4ms/step - loss: 0.4205 - accuracy: 0.8708 - val_loss: 0.3124 - val_accuracy: 0.9090\n",
            "Epoch 6/10\n",
            "1875/1875 [==============================] - 7s 4ms/step - loss: 0.3869 - accuracy: 0.8815 - val_loss: 0.3031 - val_accuracy: 0.9061\n",
            "Epoch 7/10\n",
            "1875/1875 [==============================] - 7s 4ms/step - loss: 0.3632 - accuracy: 0.8892 - val_loss: 0.2778 - val_accuracy: 0.9177\n",
            "Epoch 8/10\n",
            "1875/1875 [==============================] - 7s 4ms/step - loss: 0.3443 - accuracy: 0.8945 - val_loss: 0.2684 - val_accuracy: 0.9201\n",
            "Epoch 9/10\n",
            "1875/1875 [==============================] - 7s 4ms/step - loss: 0.3289 - accuracy: 0.8985 - val_loss: 0.2533 - val_accuracy: 0.9241\n",
            "Epoch 10/10\n",
            "1875/1875 [==============================] - 7s 4ms/step - loss: 0.3140 - accuracy: 0.9044 - val_loss: 0.2428 - val_accuracy: 0.9291\n"
          ]
        }
      ]
    }
  ]
}